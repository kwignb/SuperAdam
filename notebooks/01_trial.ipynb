{
 "cells": [
  {
   "cell_type": "code",
   "execution_count": 2,
   "metadata": {},
   "outputs": [],
   "source": [
    "import sys\n",
    "\n",
    "import jax\n",
    "import jax.numpy as jnp\n",
    "from jax import random\n",
    "from jax.example_libraries import stax, optimizers\n",
    "from neural_tangents import stax as nt_stax\n",
    "\n",
    "sys.path.append('..')\n",
    "from src.utils import read_yaml, create_dataset"
   ]
  },
  {
   "cell_type": "code",
   "execution_count": null,
   "metadata": {},
   "outputs": [],
   "source": [
    "# load config\n",
    "cfg = read_yaml(yaml_path='src/configs/generalized_adam.yaml')\n",
    "\n",
    "# parameters in config\n",
    "n_classes = cfg.DATA.N_CLASSES\n",
    "target_classes = cfg.DATA.TARGET_CLASSES\n",
    "\n",
    "n_layers = cfg.MODEL.N_LAYERS\n",
    "n_width = cfg.MODEL.N_WIDTH\n",
    "weight_variance = cfg.MODEL.WEIGHT_VARIANCE\n",
    "bias_variance = cfg.MODEL.BIAS_VARIANCE\n",
    "\n",
    "batch_size = cfg.OPTIMIZER.BATCH_SIZE\n",
    "learning_rate = cfg.OPTIMIZER.LEARNING_RATE\n",
    "damping = cfg.OPTIMIZER.DAMPING\n",
    "diag_reg = cfg.OPTIMIZER.DIAG_REG\n",
    "\n",
    "epochs = cfg.GENERAL.EPOCHS\n",
    "devices = cfg.GENERAL.DEVICES\n",
    "random_seed = cfg.GENERAL.SEED\n",
    "store_on_device = cfg.GENERAL.STORE_ON_DEVICE\n",
    "\n",
    "# setup device\n",
    "if devices is None:\n",
    "    devices = jax.device_count()\n",
    "\n",
    "# build data pipelines\n",
    "print('Loading data...')\n",
    "assert n_classes >= 2\n",
    "\n",
    "if target_classes is None:\n",
    "    target_classes = list(range(n_classes))\n",
    "else:\n",
    "    target_classes = [int(cls) for cls in target_classes]\n",
    "\n",
    "assert len(target_classes) == n_classes\n",
    "\n",
    "x_train, y_train, x_test, y_test, target_classes = create_dataset(cfg)\n",
    "\n",
    "if n_classes == 2:\n",
    "    n_outputs = 1\n",
    "else:\n",
    "    n_outputs = n_classes\n",
    "\n",
    "# build the network (TODO: Adapt CNN)\n",
    "_layers = []\n",
    "assert n_layers > 1\n",
    "w_std = jnp.sqrt(weight_variance)\n",
    "b_std = jnp.sqrt(bias_variance)\n",
    "for i in range(n_layers - 1):\n",
    "    _layers += [\n",
    "        nt_stax.Dense(n_width, W_std=w_std, b_std=b_std, parameterization='ntk'),\n",
    "        nt_stax.Relu()\n",
    "    ]\n",
    "_layers.append(\n",
    "    nt_stax.Dense(n_outputs, W_std=w_std, b_std=b_std, parameterization='ntk')\n",
    "    )\n",
    "\n",
    "init_fn, apply_fn, kernel_fn = nt_stax.serial(*_layers)\n",
    "\n",
    "key = random.PRNGKey(random_seed)\n",
    "_, params = init_fn(key, (-1, x_train.shape[-1]))\n",
    "\n",
    "opt_init, opt_apply, get_params = optimizers.sgd(learning_rate)\n",
    "opt_state = opt_init(params)"
   ]
  }
 ],
 "metadata": {
  "kernelspec": {
   "display_name": "Python 3.9.7 ('superadam')",
   "language": "python",
   "name": "python3"
  },
  "language_info": {
   "codemirror_mode": {
    "name": "ipython",
    "version": 3
   },
   "file_extension": ".py",
   "mimetype": "text/x-python",
   "name": "python",
   "nbconvert_exporter": "python",
   "pygments_lexer": "ipython3",
   "version": "3.9.7"
  },
  "orig_nbformat": 4,
  "vscode": {
   "interpreter": {
    "hash": "98ea78d573a3e1230ed592481be9a7469071c76e9a866686798394848a77166e"
   }
  }
 },
 "nbformat": 4,
 "nbformat_minor": 2
}
