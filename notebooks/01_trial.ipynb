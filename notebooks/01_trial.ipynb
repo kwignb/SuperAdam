{
 "cells": [
  {
   "cell_type": "code",
   "execution_count": 1,
   "metadata": {},
   "outputs": [
    {
     "name": "stderr",
     "output_type": "stream",
     "text": [
      "/home/kwatanabe/miniconda3/envs/superadam/lib/python3.9/site-packages/tqdm/auto.py:22: TqdmWarning: IProgress not found. Please update jupyter and ipywidgets. See https://ipywidgets.readthedocs.io/en/stable/user_install.html\n",
      "  from .autonotebook import tqdm as notebook_tqdm\n"
     ]
    }
   ],
   "source": [
    "import sys\n",
    "\n",
    "import jax\n",
    "import jax.numpy as jnp\n",
    "from jax import random\n",
    "from jax.example_libraries import stax, optimizers\n",
    "from neural_tangents import stax as nt_stax\n",
    "\n",
    "sys.path.append('..')\n",
    "from src.utils import read_yaml, create_dataset"
   ]
  },
  {
   "cell_type": "code",
   "execution_count": 2,
   "metadata": {},
   "outputs": [
    {
     "name": "stdout",
     "output_type": "stream",
     "text": [
      "Loading data...\n"
     ]
    },
    {
     "name": "stderr",
     "output_type": "stream",
     "text": [
      "2022-09-05 02:31:45.408071: W tensorflow/core/platform/cloud/google_auth_provider.cc:184] All attempts to get a Google authentication bearer token failed, returning an empty token. Retrieving token from files failed with \"NOT_FOUND: Could not locate the credentials file.\". Retrieving token from GCE failed with \"FAILED_PRECONDITION: Error executing an HTTP request: libcurl code 6 meaning 'Couldn't resolve host name', error details: Could not resolve host: metadata\".\n",
      "2022-09-05 02:31:46.671388: W tensorflow/stream_executor/platform/default/dso_loader.cc:64] Could not load dynamic library 'libcudnn.so.8'; dlerror: libcudnn.so.8: cannot open shared object file: No such file or directory\n",
      "2022-09-05 02:31:46.671405: W tensorflow/core/common_runtime/gpu/gpu_device.cc:1850] Cannot dlopen some GPU libraries. Please make sure the missing libraries mentioned above are installed properly if you would like to use GPU. Follow the guide at https://www.tensorflow.org/install/gpu for how to download and setup the required libraries for your platform.\n",
      "Skipping registering GPU devices...\n"
     ]
    }
   ],
   "source": [
    "# load config\n",
    "cfg = read_yaml(yaml_path='../src/configs/generalized_adam.yaml')\n",
    "\n",
    "# parameters in config\n",
    "n_classes = cfg.DATA.N_CLASSES\n",
    "target_classes = cfg.DATA.TARGET_CLASSES\n",
    "\n",
    "n_layers = cfg.MODEL.N_LAYERS\n",
    "n_width = cfg.MODEL.N_WIDTH\n",
    "weight_variance = cfg.MODEL.WEIGHT_VARIANCE\n",
    "bias_variance = cfg.MODEL.BIAS_VARIANCE\n",
    "\n",
    "batch_size = cfg.OPTIMIZER.BATCH_SIZE\n",
    "learning_rate = cfg.OPTIMIZER.LEARNING_RATE\n",
    "damping = cfg.OPTIMIZER.DAMPING\n",
    "diag_reg = cfg.OPTIMIZER.DIAG_REG\n",
    "\n",
    "epochs = cfg.GENERAL.EPOCHS\n",
    "devices = cfg.GENERAL.DEVICES\n",
    "random_seed = cfg.GENERAL.SEED\n",
    "store_on_device = cfg.GENERAL.STORE_ON_DEVICE\n",
    "\n",
    "# setup device\n",
    "if devices is None:\n",
    "    devices = jax.device_count()\n",
    "\n",
    "# build data pipelines\n",
    "print('Loading data...')\n",
    "assert n_classes >= 2\n",
    "\n",
    "if target_classes is None:\n",
    "    target_classes = list(range(n_classes))\n",
    "else:\n",
    "    target_classes = [int(cls) for cls in target_classes]\n",
    "\n",
    "assert len(target_classes) == n_classes\n",
    "\n",
    "x_train, y_train, x_test, y_test, target_classes = create_dataset(cfg)\n",
    "\n",
    "if n_classes == 2:\n",
    "    n_outputs = 1\n",
    "else:\n",
    "    n_outputs = n_classes\n",
    "\n",
    "# build the network (TODO: Adapt CNN)\n",
    "_layers = []\n",
    "assert n_layers > 1\n",
    "w_std = jnp.sqrt(weight_variance)\n",
    "b_std = jnp.sqrt(bias_variance)\n",
    "for i in range(n_layers - 1):\n",
    "    _layers += [\n",
    "        nt_stax.Dense(n_width, W_std=w_std, b_std=b_std, parameterization='ntk'),\n",
    "        nt_stax.Relu()\n",
    "    ]\n",
    "_layers.append(\n",
    "    nt_stax.Dense(n_outputs, W_std=w_std, b_std=b_std, parameterization='ntk')\n",
    "    )\n",
    "\n",
    "init_fn, apply_fn, kernel_fn = nt_stax.serial(*_layers)\n",
    "\n",
    "key = random.PRNGKey(random_seed)\n",
    "_, params = init_fn(key, (-1, x_train.shape[-1]))\n",
    "\n",
    "opt_init, opt_apply, get_params = optimizers.sgd(learning_rate)\n",
    "opt_state = opt_init(params)"
   ]
  },
  {
   "cell_type": "code",
   "execution_count": 3,
   "metadata": {},
   "outputs": [
    {
     "data": {
      "text/plain": [
       "(128, 784)"
      ]
     },
     "execution_count": 3,
     "metadata": {},
     "output_type": "execute_result"
    }
   ],
   "source": [
    "x_train.shape"
   ]
  },
  {
   "cell_type": "code",
   "execution_count": 4,
   "metadata": {},
   "outputs": [],
   "source": [
    "train_ntk = kernel_fn(x_train, x_train, 'ntk')"
   ]
  },
  {
   "cell_type": "code",
   "execution_count": 5,
   "metadata": {},
   "outputs": [
    {
     "data": {
      "text/plain": [
       "(128, 128)"
      ]
     },
     "execution_count": 5,
     "metadata": {},
     "output_type": "execute_result"
    }
   ],
   "source": [
    "train_ntk.shape"
   ]
  },
  {
   "cell_type": "code",
   "execution_count": 6,
   "metadata": {},
   "outputs": [],
   "source": [
    "test_ntk = kernel_fn(x_test, x_test, 'ntk')"
   ]
  },
  {
   "cell_type": "code",
   "execution_count": 7,
   "metadata": {},
   "outputs": [
    {
     "data": {
      "text/plain": [
       "(32, 32)"
      ]
     },
     "execution_count": 7,
     "metadata": {},
     "output_type": "execute_result"
    }
   ],
   "source": [
    "test_ntk.shape"
   ]
  },
  {
   "cell_type": "code",
   "execution_count": 8,
   "metadata": {},
   "outputs": [
    {
     "name": "stdout",
     "output_type": "stream",
     "text": [
      "(128, 1) (32, 1)\n"
     ]
    }
   ],
   "source": [
    "fx0_train = apply_fn(params, x_train)\n",
    "fx0_test = apply_fn(params, x_test)\n",
    "print(fx0_train.shape, fx0_test.shape)"
   ]
  },
  {
   "cell_type": "code",
   "execution_count": 15,
   "metadata": {},
   "outputs": [],
   "source": [
    "ngd_loss = lambda f, y: 0.5 * jnp.mean(jnp.sum((f - y)**2, axis=1))\n",
    "new_loss = lambda err, ntk: 0.5 * jnp.mean(err.T @ jnp.linalg.inv(ntk) @ err / len(err))"
   ]
  },
  {
   "cell_type": "code",
   "execution_count": 18,
   "metadata": {},
   "outputs": [
    {
     "data": {
      "text/plain": [
       "DeviceArray(0.12756318, dtype=float32)"
      ]
     },
     "execution_count": 18,
     "metadata": {},
     "output_type": "execute_result"
    }
   ],
   "source": [
    "ngd_loss(fx0_train, y_train)"
   ]
  },
  {
   "cell_type": "code",
   "execution_count": 20,
   "metadata": {},
   "outputs": [
    {
     "data": {
      "text/plain": [
       "4.505012035369873"
      ]
     },
     "execution_count": 20,
     "metadata": {},
     "output_type": "execute_result"
    }
   ],
   "source": [
    "new_loss(fx0_train - y_train, train_ntk).tolist()"
   ]
  },
  {
   "cell_type": "code",
   "execution_count": null,
   "metadata": {},
   "outputs": [],
   "source": []
  }
 ],
 "metadata": {
  "kernelspec": {
   "display_name": "Python 3.9.7 ('superadam')",
   "language": "python",
   "name": "python3"
  },
  "language_info": {
   "codemirror_mode": {
    "name": "ipython",
    "version": 3
   },
   "file_extension": ".py",
   "mimetype": "text/x-python",
   "name": "python",
   "nbconvert_exporter": "python",
   "pygments_lexer": "ipython3",
   "version": "3.9.7"
  },
  "orig_nbformat": 4,
  "vscode": {
   "interpreter": {
    "hash": "98ea78d573a3e1230ed592481be9a7469071c76e9a866686798394848a77166e"
   }
  }
 },
 "nbformat": 4,
 "nbformat_minor": 2
}
