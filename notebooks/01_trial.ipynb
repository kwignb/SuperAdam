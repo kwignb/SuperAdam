{
 "cells": [
  {
   "cell_type": "code",
   "execution_count": 27,
   "metadata": {},
   "outputs": [],
   "source": [
    "import sys\n",
    "\n",
    "import jax\n",
    "import jax.numpy as jnp\n",
    "from jax import random\n",
    "from jax.example_libraries import stax, optimizers\n",
    "import neural_tangents as nt\n",
    "\n",
    "sys.path.append('..')\n",
    "from src.utils import read_yaml, create_dataset"
   ]
  },
  {
   "cell_type": "code",
   "execution_count": 28,
   "metadata": {},
   "outputs": [
    {
     "name": "stdout",
     "output_type": "stream",
     "text": [
      "Loading data...\n"
     ]
    }
   ],
   "source": [
    "# load config\n",
    "cfg = read_yaml(yaml_path='../src/configs/generalized_adam.yaml')\n",
    "\n",
    "# parameters in config\n",
    "n_classes = cfg.DATA.N_CLASSES\n",
    "target_classes = cfg.DATA.TARGET_CLASSES\n",
    "\n",
    "n_layers = cfg.MODEL.N_LAYERS\n",
    "n_width = cfg.MODEL.N_WIDTH\n",
    "weight_variance = cfg.MODEL.WEIGHT_VARIANCE\n",
    "bias_variance = cfg.MODEL.BIAS_VARIANCE\n",
    "\n",
    "batch_size = cfg.OPTIMIZER.BATCH_SIZE\n",
    "learning_rate = cfg.OPTIMIZER.LEARNING_RATE\n",
    "\n",
    "epochs = cfg.GENERAL.EPOCHS\n",
    "devices = cfg.GENERAL.DEVICES\n",
    "random_seed = cfg.GENERAL.SEED\n",
    "\n",
    "# setup device\n",
    "if devices is None:\n",
    "    devices = jax.device_count()\n",
    "\n",
    "# build data pipelines\n",
    "print('Loading data...')\n",
    "assert n_classes >= 2\n",
    "\n",
    "if target_classes is None:\n",
    "    target_classes = list(range(n_classes))\n",
    "else:\n",
    "    target_classes = [int(cls) for cls in target_classes]\n",
    "\n",
    "assert len(target_classes) == n_classes\n",
    "\n",
    "x_train, y_train, x_test, y_test, target_classes = create_dataset(cfg)\n",
    "\n",
    "if n_classes == 2:\n",
    "    n_outputs = 1\n",
    "else:\n",
    "    n_outputs = n_classes\n",
    "\n",
    "# build the network (TODO: Adapt CNN)\n",
    "_layers = []\n",
    "assert n_layers > 1\n",
    "w_std = jnp.sqrt(weight_variance)\n",
    "b_std = jnp.sqrt(bias_variance)\n",
    "for i in range(n_layers - 1):\n",
    "    _layers += [\n",
    "        nt.stax.Dense(n_width, W_std=w_std, b_std=b_std, parameterization='ntk'),\n",
    "        nt.stax.Relu()\n",
    "    ]\n",
    "_layers.append(\n",
    "    nt.stax.Dense(n_outputs, W_std=w_std, b_std=b_std, parameterization='ntk')\n",
    "    )\n",
    "\n",
    "init_fn, apply_fn, kernel_fn = nt.stax.serial(*_layers)\n",
    "\n",
    "key = random.PRNGKey(random_seed)\n",
    "_, params = init_fn(key, (-1, x_train.shape[-1]))\n",
    "\n",
    "opt_init, opt_apply, get_params = optimizers.sgd(learning_rate)\n",
    "opt_state = opt_init(params)"
   ]
  },
  {
   "cell_type": "code",
   "execution_count": 53,
   "metadata": {},
   "outputs": [],
   "source": [
    "kernel_fn = nt.empirical_ntk_fn(\n",
    "    apply_fn, trace_axes=(-1,), vmap_axes=0,\n",
    "    implementation=nt.NtkImplementation.STRUCTURED_DERIVATIVES\n",
    "    )"
   ]
  },
  {
   "cell_type": "code",
   "execution_count": 55,
   "metadata": {},
   "outputs": [],
   "source": [
    "train_ntk = kernel_fn(x_train, None, params)\n",
    "train_ntk_inv = jnp.linalg.inv(train_ntk)"
   ]
  },
  {
   "cell_type": "code",
   "execution_count": 56,
   "metadata": {},
   "outputs": [
    {
     "data": {
      "text/plain": [
       "((128, 128), (128, 128))"
      ]
     },
     "execution_count": 56,
     "metadata": {},
     "output_type": "execute_result"
    }
   ],
   "source": [
    "train_ntk.shape, train_ntk_inv.shape"
   ]
  },
  {
   "cell_type": "code",
   "execution_count": 57,
   "metadata": {},
   "outputs": [],
   "source": [
    "test_ntk = kernel_fn(x_test, None, params)"
   ]
  },
  {
   "cell_type": "code",
   "execution_count": 58,
   "metadata": {},
   "outputs": [
    {
     "data": {
      "text/plain": [
       "(32, 32)"
      ]
     },
     "execution_count": 58,
     "metadata": {},
     "output_type": "execute_result"
    }
   ],
   "source": [
    "test_ntk.shape"
   ]
  },
  {
   "cell_type": "code",
   "execution_count": 59,
   "metadata": {},
   "outputs": [
    {
     "name": "stdout",
     "output_type": "stream",
     "text": [
      "(128, 1) (32, 1)\n"
     ]
    }
   ],
   "source": [
    "fx0_train = apply_fn(params, x_train)\n",
    "fx0_test = apply_fn(params, x_test)"
   ]
  },
  {
   "cell_type": "code",
   "execution_count": 34,
   "metadata": {},
   "outputs": [],
   "source": [
    "ngd_loss = lambda f, y: 0.5 * jnp.mean(jnp.sum((f - y)**2, axis=1), axis=0)\n",
    "new_loss = lambda params, x, y, G_inv: 0.5 * jnp.mean(\n",
    "    jnp.sum((apply_fn(params, x) - y).T @ G_inv @ (apply_fn(params, x) - y), axis=1), axis=0\n",
    "    )"
   ]
  },
  {
   "cell_type": "code",
   "execution_count": 35,
   "metadata": {},
   "outputs": [
    {
     "data": {
      "text/plain": [
       "DeviceArray(0.12756318, dtype=float32)"
      ]
     },
     "execution_count": 35,
     "metadata": {},
     "output_type": "execute_result"
    }
   ],
   "source": [
    "ngd_loss(fx0_train, y_train)"
   ]
  },
  {
   "cell_type": "code",
   "execution_count": 64,
   "metadata": {},
   "outputs": [
    {
     "data": {
      "text/plain": [
       "DeviceArray(602.6216, dtype=float32)"
      ]
     },
     "execution_count": 64,
     "metadata": {},
     "output_type": "execute_result"
    },
    {
     "ename": "",
     "evalue": "",
     "output_type": "error",
     "traceback": [
      "\u001b[1;31m現在のセルまたは前のセルでコードを実行中に、カーネルがクラッシュしました。エラーの原因を特定するには、セル内のコードを確認してください。詳細については、<a href='https://aka.ms/vscodeJupyterKernelCrash'>こちら</a> をクリックしてください。さらなる詳細については、Jupyter [log] (command:jupyter.viewOutput) を参照してください。"
     ]
    }
   ],
   "source": [
    "new_loss(params, x_train, y_train, train_ntk_inv)"
   ]
  },
  {
   "cell_type": "code",
   "execution_count": null,
   "metadata": {},
   "outputs": [],
   "source": []
  }
 ],
 "metadata": {
  "kernelspec": {
   "display_name": "Python 3.9.7 ('superadam')",
   "language": "python",
   "name": "python3"
  },
  "language_info": {
   "codemirror_mode": {
    "name": "ipython",
    "version": 3
   },
   "file_extension": ".py",
   "mimetype": "text/x-python",
   "name": "python",
   "nbconvert_exporter": "python",
   "pygments_lexer": "ipython3",
   "version": "3.9.7"
  },
  "orig_nbformat": 4,
  "vscode": {
   "interpreter": {
    "hash": "98ea78d573a3e1230ed592481be9a7469071c76e9a866686798394848a77166e"
   }
  }
 },
 "nbformat": 4,
 "nbformat_minor": 2
}
